{
 "cells": [
  {
   "cell_type": "code",
   "execution_count": 1,
   "id": "daf80d6b",
   "metadata": {
    "execution": {
     "iopub.execute_input": "2024-08-08T19:01:27.410205Z",
     "iopub.status.busy": "2024-08-08T19:01:27.409766Z",
     "iopub.status.idle": "2024-08-08T19:01:43.974762Z",
     "shell.execute_reply": "2024-08-08T19:01:43.973461Z"
    },
    "papermill": {
     "duration": 16.577977,
     "end_time": "2024-08-08T19:01:43.977567",
     "exception": false,
     "start_time": "2024-08-08T19:01:27.399590",
     "status": "completed"
    },
    "tags": []
   },
   "outputs": [
    {
     "name": "stdout",
     "output_type": "stream",
     "text": [
      "Requirement already satisfied: NLTK in /opt/conda/lib/python3.10/site-packages (3.2.4)\r\n",
      "Requirement already satisfied: six in /opt/conda/lib/python3.10/site-packages (from NLTK) (1.16.0)\r\n"
     ]
    }
   ],
   "source": [
    "!pip install NLTK"
   ]
  },
  {
   "cell_type": "code",
   "execution_count": 2,
   "id": "636a4bdd",
   "metadata": {
    "execution": {
     "iopub.execute_input": "2024-08-08T19:01:43.996955Z",
     "iopub.status.busy": "2024-08-08T19:01:43.996500Z",
     "iopub.status.idle": "2024-08-08T19:01:44.006458Z",
     "shell.execute_reply": "2024-08-08T19:01:44.005201Z"
    },
    "papermill": {
     "duration": 0.023105,
     "end_time": "2024-08-08T19:01:44.009078",
     "exception": false,
     "start_time": "2024-08-08T19:01:43.985973",
     "status": "completed"
    },
    "tags": []
   },
   "outputs": [
    {
     "data": {
      "text/plain": [
       "\"\\nHello Everyone, Welcome to Nandini's notebook. In this notebook! we will studying NLP.\\n\""
      ]
     },
     "execution_count": 2,
     "metadata": {},
     "output_type": "execute_result"
    }
   ],
   "source": [
    "corpus = \"\"\"\n",
    "Hello Everyone, Welcome to Nandini's notebook. In this notebook! we will studying NLP.\n",
    "\"\"\"\n",
    "corpus"
   ]
  },
  {
   "cell_type": "code",
   "execution_count": 3,
   "id": "2c1bb945",
   "metadata": {
    "execution": {
     "iopub.execute_input": "2024-08-08T19:01:44.027344Z",
     "iopub.status.busy": "2024-08-08T19:01:44.026942Z",
     "iopub.status.idle": "2024-08-08T19:01:44.032969Z",
     "shell.execute_reply": "2024-08-08T19:01:44.031814Z"
    },
    "papermill": {
     "duration": 0.018293,
     "end_time": "2024-08-08T19:01:44.035661",
     "exception": false,
     "start_time": "2024-08-08T19:01:44.017368",
     "status": "completed"
    },
    "tags": []
   },
   "outputs": [
    {
     "name": "stdout",
     "output_type": "stream",
     "text": [
      "\n",
      "Hello Everyone, Welcome to Nandini's notebook. In this notebook! we will studying NLP.\n",
      "\n"
     ]
    }
   ],
   "source": [
    "print(corpus)"
   ]
  },
  {
   "cell_type": "code",
   "execution_count": 4,
   "id": "21a5d9cf",
   "metadata": {
    "execution": {
     "iopub.execute_input": "2024-08-08T19:01:44.054543Z",
     "iopub.status.busy": "2024-08-08T19:01:44.054086Z",
     "iopub.status.idle": "2024-08-08T19:01:46.096353Z",
     "shell.execute_reply": "2024-08-08T19:01:46.095006Z"
    },
    "papermill": {
     "duration": 2.055266,
     "end_time": "2024-08-08T19:01:46.099477",
     "exception": false,
     "start_time": "2024-08-08T19:01:44.044211",
     "status": "completed"
    },
    "tags": []
   },
   "outputs": [],
   "source": [
    "from nltk.tokenize import sent_tokenize"
   ]
  },
  {
   "cell_type": "code",
   "execution_count": 5,
   "id": "700b3738",
   "metadata": {
    "execution": {
     "iopub.execute_input": "2024-08-08T19:01:46.118571Z",
     "iopub.status.busy": "2024-08-08T19:01:46.118113Z",
     "iopub.status.idle": "2024-08-08T19:01:46.140450Z",
     "shell.execute_reply": "2024-08-08T19:01:46.139138Z"
    },
    "papermill": {
     "duration": 0.035348,
     "end_time": "2024-08-08T19:01:46.143460",
     "exception": false,
     "start_time": "2024-08-08T19:01:46.108112",
     "status": "completed"
    },
    "tags": []
   },
   "outputs": [],
   "source": [
    "documents = sent_tokenize(corpus)"
   ]
  },
  {
   "cell_type": "code",
   "execution_count": 6,
   "id": "8ee254b2",
   "metadata": {
    "execution": {
     "iopub.execute_input": "2024-08-08T19:01:46.162358Z",
     "iopub.status.busy": "2024-08-08T19:01:46.161905Z",
     "iopub.status.idle": "2024-08-08T19:01:46.167723Z",
     "shell.execute_reply": "2024-08-08T19:01:46.166609Z"
    },
    "papermill": {
     "duration": 0.018423,
     "end_time": "2024-08-08T19:01:46.170444",
     "exception": false,
     "start_time": "2024-08-08T19:01:46.152021",
     "status": "completed"
    },
    "tags": []
   },
   "outputs": [
    {
     "name": "stdout",
     "output_type": "stream",
     "text": [
      "[\"\\nHello Everyone, Welcome to Nandini's notebook.\", 'In this notebook!', 'we will studying NLP.']\n"
     ]
    }
   ],
   "source": [
    "print(documents)"
   ]
  },
  {
   "cell_type": "code",
   "execution_count": 7,
   "id": "d41881d9",
   "metadata": {
    "execution": {
     "iopub.execute_input": "2024-08-08T19:01:46.190328Z",
     "iopub.status.busy": "2024-08-08T19:01:46.189521Z",
     "iopub.status.idle": "2024-08-08T19:01:46.195632Z",
     "shell.execute_reply": "2024-08-08T19:01:46.194467Z"
    },
    "papermill": {
     "duration": 0.019795,
     "end_time": "2024-08-08T19:01:46.198778",
     "exception": false,
     "start_time": "2024-08-08T19:01:46.178983",
     "status": "completed"
    },
    "tags": []
   },
   "outputs": [
    {
     "name": "stdout",
     "output_type": "stream",
     "text": [
      "\n",
      "Hello Everyone, Welcome to Nandini's notebook.\n",
      "In this notebook!\n",
      "we will studying NLP.\n"
     ]
    }
   ],
   "source": [
    " for sen in documents:\n",
    "    print(sen)"
   ]
  },
  {
   "cell_type": "code",
   "execution_count": 8,
   "id": "1f7609bf",
   "metadata": {
    "execution": {
     "iopub.execute_input": "2024-08-08T19:01:46.217758Z",
     "iopub.status.busy": "2024-08-08T19:01:46.217308Z",
     "iopub.status.idle": "2024-08-08T19:01:46.226162Z",
     "shell.execute_reply": "2024-08-08T19:01:46.225054Z"
    },
    "papermill": {
     "duration": 0.021148,
     "end_time": "2024-08-08T19:01:46.228592",
     "exception": false,
     "start_time": "2024-08-08T19:01:46.207444",
     "status": "completed"
    },
    "tags": []
   },
   "outputs": [
    {
     "data": {
      "text/plain": [
       "['Hello',\n",
       " 'Everyone',\n",
       " ',',\n",
       " 'Welcome',\n",
       " 'to',\n",
       " 'Nandini',\n",
       " \"'s\",\n",
       " 'notebook',\n",
       " '.',\n",
       " 'In',\n",
       " 'this',\n",
       " 'notebook',\n",
       " '!',\n",
       " 'we',\n",
       " 'will',\n",
       " 'studying',\n",
       " 'NLP',\n",
       " '.']"
      ]
     },
     "execution_count": 8,
     "metadata": {},
     "output_type": "execute_result"
    }
   ],
   "source": [
    "from nltk.tokenize import word_tokenize\n",
    "word_tokenize(corpus)"
   ]
  },
  {
   "cell_type": "code",
   "execution_count": 9,
   "id": "607bd6b7",
   "metadata": {
    "execution": {
     "iopub.execute_input": "2024-08-08T19:01:46.248344Z",
     "iopub.status.busy": "2024-08-08T19:01:46.247476Z",
     "iopub.status.idle": "2024-08-08T19:01:46.252991Z",
     "shell.execute_reply": "2024-08-08T19:01:46.251798Z"
    },
    "papermill": {
     "duration": 0.018163,
     "end_time": "2024-08-08T19:01:46.255479",
     "exception": false,
     "start_time": "2024-08-08T19:01:46.237316",
     "status": "completed"
    },
    "tags": []
   },
   "outputs": [],
   "source": [
    "from nltk.tokenize import wordpunct_tokenize"
   ]
  },
  {
   "cell_type": "code",
   "execution_count": 10,
   "id": "fbaa778a",
   "metadata": {
    "execution": {
     "iopub.execute_input": "2024-08-08T19:01:46.275243Z",
     "iopub.status.busy": "2024-08-08T19:01:46.274361Z",
     "iopub.status.idle": "2024-08-08T19:01:46.282247Z",
     "shell.execute_reply": "2024-08-08T19:01:46.281162Z"
    },
    "papermill": {
     "duration": 0.020235,
     "end_time": "2024-08-08T19:01:46.284563",
     "exception": false,
     "start_time": "2024-08-08T19:01:46.264328",
     "status": "completed"
    },
    "tags": []
   },
   "outputs": [
    {
     "data": {
      "text/plain": [
       "['Hello',\n",
       " 'Everyone',\n",
       " ',',\n",
       " 'Welcome',\n",
       " 'to',\n",
       " 'Nandini',\n",
       " \"'\",\n",
       " 's',\n",
       " 'notebook',\n",
       " '.',\n",
       " 'In',\n",
       " 'this',\n",
       " 'notebook',\n",
       " '!',\n",
       " 'we',\n",
       " 'will',\n",
       " 'studying',\n",
       " 'NLP',\n",
       " '.']"
      ]
     },
     "execution_count": 10,
     "metadata": {},
     "output_type": "execute_result"
    }
   ],
   "source": [
    "wordpunct_tokenize(corpus)"
   ]
  },
  {
   "cell_type": "code",
   "execution_count": 11,
   "id": "e629e49c",
   "metadata": {
    "execution": {
     "iopub.execute_input": "2024-08-08T19:01:46.304405Z",
     "iopub.status.busy": "2024-08-08T19:01:46.303996Z",
     "iopub.status.idle": "2024-08-08T19:01:46.312624Z",
     "shell.execute_reply": "2024-08-08T19:01:46.311400Z"
    },
    "papermill": {
     "duration": 0.021826,
     "end_time": "2024-08-08T19:01:46.315213",
     "exception": false,
     "start_time": "2024-08-08T19:01:46.293387",
     "status": "completed"
    },
    "tags": []
   },
   "outputs": [
    {
     "data": {
      "text/plain": [
       "['Hello',\n",
       " 'Everyone',\n",
       " ',',\n",
       " 'Welcome',\n",
       " 'to',\n",
       " 'Nandini',\n",
       " \"'s\",\n",
       " 'notebook.',\n",
       " 'In',\n",
       " 'this',\n",
       " 'notebook',\n",
       " '!',\n",
       " 'we',\n",
       " 'will',\n",
       " 'studying',\n",
       " 'NLP',\n",
       " '.']"
      ]
     },
     "execution_count": 11,
     "metadata": {},
     "output_type": "execute_result"
    }
   ],
   "source": [
    "from nltk.tokenize import TreebankWordTokenizer\n",
    "tokenizer = TreebankWordTokenizer()\n",
    "tokenizer.tokenize(corpus)"
   ]
  },
  {
   "cell_type": "code",
   "execution_count": 12,
   "id": "efdc311c",
   "metadata": {
    "execution": {
     "iopub.execute_input": "2024-08-08T19:01:46.335382Z",
     "iopub.status.busy": "2024-08-08T19:01:46.334996Z",
     "iopub.status.idle": "2024-08-08T19:01:46.340914Z",
     "shell.execute_reply": "2024-08-08T19:01:46.339707Z"
    },
    "papermill": {
     "duration": 0.018808,
     "end_time": "2024-08-08T19:01:46.343400",
     "exception": false,
     "start_time": "2024-08-08T19:01:46.324592",
     "status": "completed"
    },
    "tags": []
   },
   "outputs": [],
   "source": [
    "words = [\"eating\" , \"eats\" , \"eaten\" ,\"writing\" , \"writes\" , \"programming\" , \"programs\" , \"history\" , \"finally\" , \"finalise\"]"
   ]
  },
  {
   "cell_type": "code",
   "execution_count": 13,
   "id": "5c8c2344",
   "metadata": {
    "execution": {
     "iopub.execute_input": "2024-08-08T19:01:46.363347Z",
     "iopub.status.busy": "2024-08-08T19:01:46.362906Z",
     "iopub.status.idle": "2024-08-08T19:01:46.368691Z",
     "shell.execute_reply": "2024-08-08T19:01:46.367376Z"
    },
    "papermill": {
     "duration": 0.018789,
     "end_time": "2024-08-08T19:01:46.371293",
     "exception": false,
     "start_time": "2024-08-08T19:01:46.352504",
     "status": "completed"
    },
    "tags": []
   },
   "outputs": [],
   "source": [
    "##PorterStemmer\n",
    "from nltk.stem import PorterStemmer\n",
    "stemming = PorterStemmer()"
   ]
  },
  {
   "cell_type": "code",
   "execution_count": 14,
   "id": "06685ac2",
   "metadata": {
    "execution": {
     "iopub.execute_input": "2024-08-08T19:01:46.392442Z",
     "iopub.status.busy": "2024-08-08T19:01:46.391580Z",
     "iopub.status.idle": "2024-08-08T19:01:46.398703Z",
     "shell.execute_reply": "2024-08-08T19:01:46.397580Z"
    },
    "papermill": {
     "duration": 0.021457,
     "end_time": "2024-08-08T19:01:46.401856",
     "exception": false,
     "start_time": "2024-08-08T19:01:46.380399",
     "status": "completed"
    },
    "tags": []
   },
   "outputs": [
    {
     "name": "stdout",
     "output_type": "stream",
     "text": [
      "eating--->eat\n",
      "eats--->eat\n",
      "eaten--->eaten\n",
      "writing--->write\n",
      "writes--->write\n",
      "programming--->program\n",
      "programs--->program\n",
      "history--->histori\n",
      "finally--->final\n",
      "finalise--->finalis\n"
     ]
    }
   ],
   "source": [
    "for word in words:\n",
    "    print(word + \"--->\" + stemming.stem(word))"
   ]
  },
  {
   "cell_type": "code",
   "execution_count": 15,
   "id": "e3c06898",
   "metadata": {
    "execution": {
     "iopub.execute_input": "2024-08-08T19:01:46.422111Z",
     "iopub.status.busy": "2024-08-08T19:01:46.421681Z",
     "iopub.status.idle": "2024-08-08T19:01:46.429317Z",
     "shell.execute_reply": "2024-08-08T19:01:46.428147Z"
    },
    "papermill": {
     "duration": 0.020889,
     "end_time": "2024-08-08T19:01:46.432054",
     "exception": false,
     "start_time": "2024-08-08T19:01:46.411165",
     "status": "completed"
    },
    "tags": []
   },
   "outputs": [
    {
     "data": {
      "text/plain": [
       "'congratul'"
      ]
     },
     "execution_count": 15,
     "metadata": {},
     "output_type": "execute_result"
    }
   ],
   "source": [
    "stemming.stem('congratulations')"
   ]
  },
  {
   "cell_type": "code",
   "execution_count": 16,
   "id": "ac2c8275",
   "metadata": {
    "execution": {
     "iopub.execute_input": "2024-08-08T19:01:46.453213Z",
     "iopub.status.busy": "2024-08-08T19:01:46.452820Z",
     "iopub.status.idle": "2024-08-08T19:01:46.460956Z",
     "shell.execute_reply": "2024-08-08T19:01:46.459744Z"
    },
    "papermill": {
     "duration": 0.022314,
     "end_time": "2024-08-08T19:01:46.463708",
     "exception": false,
     "start_time": "2024-08-08T19:01:46.441394",
     "status": "completed"
    },
    "tags": []
   },
   "outputs": [
    {
     "data": {
      "text/plain": [
       "'sit'"
      ]
     },
     "execution_count": 16,
     "metadata": {},
     "output_type": "execute_result"
    }
   ],
   "source": [
    "stemming.stem(\"sitting\")"
   ]
  },
  {
   "cell_type": "code",
   "execution_count": 17,
   "id": "3c641192",
   "metadata": {
    "execution": {
     "iopub.execute_input": "2024-08-08T19:01:46.484811Z",
     "iopub.status.busy": "2024-08-08T19:01:46.484365Z",
     "iopub.status.idle": "2024-08-08T19:01:46.492384Z",
     "shell.execute_reply": "2024-08-08T19:01:46.491185Z"
    },
    "papermill": {
     "duration": 0.02168,
     "end_time": "2024-08-08T19:01:46.494999",
     "exception": false,
     "start_time": "2024-08-08T19:01:46.473319",
     "status": "completed"
    },
    "tags": []
   },
   "outputs": [
    {
     "data": {
      "text/plain": [
       "'eat'"
      ]
     },
     "execution_count": 17,
     "metadata": {},
     "output_type": "execute_result"
    }
   ],
   "source": [
    "#RegexStemmer Class\n",
    "#checks on prefixes\n",
    "from nltk.stem import RegexpStemmer\n",
    "reg_stemmer = RegexpStemmer('ing$|s$|e$|able$',min = 4)\n",
    "reg_stemmer.stem('eating')"
   ]
  },
  {
   "cell_type": "code",
   "execution_count": 18,
   "id": "381bfb32",
   "metadata": {
    "execution": {
     "iopub.execute_input": "2024-08-08T19:01:46.516628Z",
     "iopub.status.busy": "2024-08-08T19:01:46.516169Z",
     "iopub.status.idle": "2024-08-08T19:01:46.524156Z",
     "shell.execute_reply": "2024-08-08T19:01:46.522861Z"
    },
    "papermill": {
     "duration": 0.022261,
     "end_time": "2024-08-08T19:01:46.526974",
     "exception": false,
     "start_time": "2024-08-08T19:01:46.504713",
     "status": "completed"
    },
    "tags": []
   },
   "outputs": [
    {
     "data": {
      "text/plain": [
       "'cod'"
      ]
     },
     "execution_count": 18,
     "metadata": {},
     "output_type": "execute_result"
    }
   ],
   "source": [
    "reg_stemmer.stem('coding')"
   ]
  },
  {
   "cell_type": "code",
   "execution_count": 19,
   "id": "4a70b5a1",
   "metadata": {
    "execution": {
     "iopub.execute_input": "2024-08-08T19:01:46.548354Z",
     "iopub.status.busy": "2024-08-08T19:01:46.547927Z",
     "iopub.status.idle": "2024-08-08T19:01:46.555361Z",
     "shell.execute_reply": "2024-08-08T19:01:46.554150Z"
    },
    "papermill": {
     "duration": 0.020981,
     "end_time": "2024-08-08T19:01:46.557814",
     "exception": false,
     "start_time": "2024-08-08T19:01:46.536833",
     "status": "completed"
    },
    "tags": []
   },
   "outputs": [
    {
     "data": {
      "text/plain": [
       "'ingeat'"
      ]
     },
     "execution_count": 19,
     "metadata": {},
     "output_type": "execute_result"
    }
   ],
   "source": [
    "reg_stemmer.stem('ingeating')"
   ]
  },
  {
   "cell_type": "code",
   "execution_count": 20,
   "id": "89f24e14",
   "metadata": {
    "execution": {
     "iopub.execute_input": "2024-08-08T19:01:46.580107Z",
     "iopub.status.busy": "2024-08-08T19:01:46.579576Z",
     "iopub.status.idle": "2024-08-08T19:01:46.587088Z",
     "shell.execute_reply": "2024-08-08T19:01:46.585917Z"
    },
    "papermill": {
     "duration": 0.021758,
     "end_time": "2024-08-08T19:01:46.589679",
     "exception": false,
     "start_time": "2024-08-08T19:01:46.567921",
     "status": "completed"
    },
    "tags": []
   },
   "outputs": [
    {
     "data": {
      "text/plain": [
       "'dis'"
      ]
     },
     "execution_count": 20,
     "metadata": {},
     "output_type": "execute_result"
    }
   ],
   "source": [
    "reg_stemmer.stem('disable')"
   ]
  },
  {
   "cell_type": "code",
   "execution_count": 21,
   "id": "b1eed3f7",
   "metadata": {
    "execution": {
     "iopub.execute_input": "2024-08-08T19:01:46.612136Z",
     "iopub.status.busy": "2024-08-08T19:01:46.611707Z",
     "iopub.status.idle": "2024-08-08T19:01:46.619590Z",
     "shell.execute_reply": "2024-08-08T19:01:46.618471Z"
    },
    "papermill": {
     "duration": 0.022404,
     "end_time": "2024-08-08T19:01:46.622666",
     "exception": false,
     "start_time": "2024-08-08T19:01:46.600262",
     "status": "completed"
    },
    "tags": []
   },
   "outputs": [
    {
     "name": "stdout",
     "output_type": "stream",
     "text": [
      "eating-->eat\n",
      "eats-->eat\n",
      "eaten-->eaten\n",
      "writing-->write\n",
      "writes-->write\n",
      "programming-->program\n",
      "programs-->program\n",
      "history-->histori\n",
      "finally-->final\n",
      "finalize-->final\n"
     ]
    }
   ],
   "source": [
    "#snowballstemmer\n",
    "from nltk.stem import SnowballStemmer\n",
    "snow = SnowballStemmer('english')\n",
    "words = [\"eating\" , \"eats\" , \"eaten\" ,\"writing\" , \"writes\" , \"programming\" , \"programs\" , \"history\" , \"finally\" , \"finalize\"]\n",
    "for word in words:\n",
    "    print(word + \"-->\" + snow.stem(word))"
   ]
  },
  {
   "cell_type": "code",
   "execution_count": 22,
   "id": "d5b67b37",
   "metadata": {
    "execution": {
     "iopub.execute_input": "2024-08-08T19:01:46.645750Z",
     "iopub.status.busy": "2024-08-08T19:01:46.644524Z",
     "iopub.status.idle": "2024-08-08T19:01:46.652556Z",
     "shell.execute_reply": "2024-08-08T19:01:46.651351Z"
    },
    "papermill": {
     "duration": 0.022269,
     "end_time": "2024-08-08T19:01:46.655133",
     "exception": false,
     "start_time": "2024-08-08T19:01:46.632864",
     "status": "completed"
    },
    "tags": []
   },
   "outputs": [
    {
     "data": {
      "text/plain": [
       "('fairli', 'sportingli')"
      ]
     },
     "execution_count": 22,
     "metadata": {},
     "output_type": "execute_result"
    }
   ],
   "source": [
    "stemming.stem(\"fairly\") , stemming.stem('sportingly')"
   ]
  },
  {
   "cell_type": "code",
   "execution_count": 23,
   "id": "d8e67880",
   "metadata": {
    "execution": {
     "iopub.execute_input": "2024-08-08T19:01:46.677782Z",
     "iopub.status.busy": "2024-08-08T19:01:46.677331Z",
     "iopub.status.idle": "2024-08-08T19:01:46.685359Z",
     "shell.execute_reply": "2024-08-08T19:01:46.684215Z"
    },
    "papermill": {
     "duration": 0.022204,
     "end_time": "2024-08-08T19:01:46.687835",
     "exception": false,
     "start_time": "2024-08-08T19:01:46.665631",
     "status": "completed"
    },
    "tags": []
   },
   "outputs": [
    {
     "data": {
      "text/plain": [
       "('fair', 'sport')"
      ]
     },
     "execution_count": 23,
     "metadata": {},
     "output_type": "execute_result"
    }
   ],
   "source": [
    "snow.stem('fairly') , snow.stem('sportingly')"
   ]
  }
 ],
 "metadata": {
  "kaggle": {
   "accelerator": "none",
   "dataSources": [],
   "isGpuEnabled": false,
   "isInternetEnabled": true,
   "language": "python",
   "sourceType": "notebook"
  },
  "kernelspec": {
   "display_name": "Python 3",
   "language": "python",
   "name": "python3"
  },
  "language_info": {
   "codemirror_mode": {
    "name": "ipython",
    "version": 3
   },
   "file_extension": ".py",
   "mimetype": "text/x-python",
   "name": "python",
   "nbconvert_exporter": "python",
   "pygments_lexer": "ipython3",
   "version": "3.10.13"
  },
  "papermill": {
   "default_parameters": {},
   "duration": 23.067692,
   "end_time": "2024-08-08T19:01:47.321689",
   "environment_variables": {},
   "exception": null,
   "input_path": "__notebook__.ipynb",
   "output_path": "__notebook__.ipynb",
   "parameters": {},
   "start_time": "2024-08-08T19:01:24.253997",
   "version": "2.5.0"
  }
 },
 "nbformat": 4,
 "nbformat_minor": 5
}
