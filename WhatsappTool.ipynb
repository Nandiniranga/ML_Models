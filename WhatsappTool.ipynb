{
  "nbformat": 4,
  "nbformat_minor": 0,
  "metadata": {
    "colab": {
      "provenance": [],
      "authorship_tag": "ABX9TyPy7O++idkMIaaU/lplEIDC",
      "include_colab_link": true
    },
    "kernelspec": {
      "name": "python3",
      "display_name": "Python 3"
    },
    "language_info": {
      "name": "python"
    }
  },
  "cells": [
    {
      "cell_type": "markdown",
      "metadata": {
        "id": "view-in-github",
        "colab_type": "text"
      },
      "source": [
        "<a href=\"https://colab.research.google.com/github/Nandiniranga/ML_Models/blob/main/WhatsappTool.ipynb\" target=\"_parent\"><img src=\"https://colab.research.google.com/assets/colab-badge.svg\" alt=\"Open In Colab\"/></a>"
      ]
    },
    {
      "cell_type": "code",
      "execution_count": null,
      "metadata": {
        "colab": {
          "base_uri": "https://localhost:8080/"
        },
        "id": "N_uJrmsNSM4N",
        "outputId": "78c104f1-c292-4656-d0f9-fa4588476d07",
        "collapsed": true
      },
      "outputs": [
        {
          "output_type": "stream",
          "name": "stdout",
          "text": [
            "Requirement already satisfied: transformers in /usr/local/lib/python3.10/dist-packages (4.46.3)\n",
            "Requirement already satisfied: filelock in /usr/local/lib/python3.10/dist-packages (from transformers) (3.16.1)\n",
            "Requirement already satisfied: huggingface-hub<1.0,>=0.23.2 in /usr/local/lib/python3.10/dist-packages (from transformers) (0.26.3)\n",
            "Requirement already satisfied: numpy>=1.17 in /usr/local/lib/python3.10/dist-packages (from transformers) (1.26.4)\n",
            "Requirement already satisfied: packaging>=20.0 in /usr/local/lib/python3.10/dist-packages (from transformers) (24.2)\n",
            "Requirement already satisfied: pyyaml>=5.1 in /usr/local/lib/python3.10/dist-packages (from transformers) (6.0.2)\n",
            "Requirement already satisfied: regex!=2019.12.17 in /usr/local/lib/python3.10/dist-packages (from transformers) (2024.9.11)\n",
            "Requirement already satisfied: requests in /usr/local/lib/python3.10/dist-packages (from transformers) (2.32.3)\n",
            "Requirement already satisfied: tokenizers<0.21,>=0.20 in /usr/local/lib/python3.10/dist-packages (from transformers) (0.20.3)\n",
            "Requirement already satisfied: safetensors>=0.4.1 in /usr/local/lib/python3.10/dist-packages (from transformers) (0.4.5)\n",
            "Requirement already satisfied: tqdm>=4.27 in /usr/local/lib/python3.10/dist-packages (from transformers) (4.66.6)\n",
            "Requirement already satisfied: fsspec>=2023.5.0 in /usr/local/lib/python3.10/dist-packages (from huggingface-hub<1.0,>=0.23.2->transformers) (2024.10.0)\n",
            "Requirement already satisfied: typing-extensions>=3.7.4.3 in /usr/local/lib/python3.10/dist-packages (from huggingface-hub<1.0,>=0.23.2->transformers) (4.12.2)\n",
            "Requirement already satisfied: charset-normalizer<4,>=2 in /usr/local/lib/python3.10/dist-packages (from requests->transformers) (3.4.0)\n",
            "Requirement already satisfied: idna<4,>=2.5 in /usr/local/lib/python3.10/dist-packages (from requests->transformers) (3.10)\n",
            "Requirement already satisfied: urllib3<3,>=1.21.1 in /usr/local/lib/python3.10/dist-packages (from requests->transformers) (2.2.3)\n",
            "Requirement already satisfied: certifi>=2017.4.17 in /usr/local/lib/python3.10/dist-packages (from requests->transformers) (2024.8.30)\n"
          ]
        }
      ],
      "source": [
        "!pip install transformers"
      ]
    },
    {
      "cell_type": "code",
      "source": [
        "import re\n",
        "import numpy as np\n",
        "import pandas as pd"
      ],
      "metadata": {
        "id": "zJxPpGLoUgFU"
      },
      "execution_count": 2,
      "outputs": []
    },
    {
      "cell_type": "code",
      "source": [
        "file_path = '/content/Trial-1.txt'"
      ],
      "metadata": {
        "id": "lIAzan4Ar9uD"
      },
      "execution_count": 5,
      "outputs": []
    },
    {
      "cell_type": "code",
      "source": [
        "with open(file_path, 'r') as file:\n",
        "    content = file.readlines()\n",
        "pattern = r'^(\\d{2}/\\d{2}/\\d{2,4}), (\\d{1,2}:\\d{2} ?[apmAPM]{2}) - ([^:]+): (.+)$'\n",
        "def clean_message(message):\n",
        "    message = re.sub(r'<This message was edited>', '', message).strip()\n",
        "    message = re.sub(r'<Media omitted>', '[Media Shared]', message)\n",
        "    message = re.sub(r'<(Image|Video|Document|Sticker|Link) omitted>', '[Media Shared]', message)\n",
        "    return message\n",
        "data = []\n",
        "for line in content:\n",
        "    match = re.match(pattern, line)\n",
        "    if match:\n",
        "        date, time, sender, message = match.groups()\n",
        "        if (\"joined\" in message or \"left\" in message or \"added\" in message or\n",
        "            \"<Media omitted>\" in message or \"<Image omitted>\" in message or\n",
        "            \"<Video omitted>\" in message or \"<Document omitted>\" in message or\n",
        "            \"<Sticker omitted>\" in message or \"Missed\" in message or \"ended\" in message):\n",
        "            continue\n",
        "        message = clean_message(message)\n",
        "        if message.strip() == '':\n",
        "            continue\n",
        "        data.append({'Date': date, 'Time': time, 'Sender': sender, 'Message': message})\n",
        "df = pd.DataFrame(data)\n",
        "print(df)"
      ],
      "metadata": {
        "colab": {
          "base_uri": "https://localhost:8080/"
        },
        "collapsed": true,
        "id": "sSEN0PmHvLtU",
        "outputId": "ace4dc81-e843-45f7-eb6c-66f9e511791c"
      },
      "execution_count": 9,
      "outputs": [
        {
          "output_type": "stream",
          "name": "stdout",
          "text": [
            "        Date      Time               Sender  \\\n",
            "0   28/08/24  11:22 am               Somsom   \n",
            "1   28/08/24  12:08 pm               Somsom   \n",
            "2   28/08/24  12:08 pm               Somsom   \n",
            "3   28/08/24  12:10 pm  Shashank Damle Nitw   \n",
            "4   28/08/24  12:11 pm   Aditya Kondam Nitw   \n",
            "..       ...       ...                  ...   \n",
            "74  30/08/24   5:44 pm   Aditya Kondam Nitw   \n",
            "75  30/08/24   5:44 pm   Aditya Kondam Nitw   \n",
            "76  30/08/24   5:44 pm              Nandini   \n",
            "77  30/08/24   5:44 pm     Bushra_ECEB NITW   \n",
            "78  30/08/24   5:45 pm   Aditya Kondam Nitw   \n",
            "\n",
            "                                              Message  \n",
            "0                         Heads when are we starting?  \n",
            "1                                       Hehe that too  \n",
            "2                                           But later  \n",
            "3   @916281015006 @919360271614 how about escape n...  \n",
            "4                                  When do I want it?  \n",
            "..                                                ...  \n",
            "74                                                 Fk  \n",
            "75                               It's started to rain  \n",
            "76                                               Yeah  \n",
            "77                It's been raining like since an hr.  \n",
            "78                            So sorry. I was indoors  \n",
            "\n",
            "[79 rows x 4 columns]\n"
          ]
        }
      ]
    },
    {
      "cell_type": "code",
      "source": [],
      "metadata": {
        "id": "Km23PAz-v9lX"
      },
      "execution_count": null,
      "outputs": []
    }
  ]
}